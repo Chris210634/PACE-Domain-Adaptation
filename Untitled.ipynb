{
 "cells": [
  {
   "cell_type": "code",
   "execution_count": 1,
   "id": "1940df72",
   "metadata": {},
   "outputs": [
    {
     "name": "stdout",
     "output_type": "stream",
     "text": [
      "Namespace(augmentation='none', data_root='/scratch/cliao25/office_home', dataset='office_home', domain='Art', image_list_root='data/office_home')\n",
      "domain: Art, num unique images: 2427\n",
      "('convnext_xlarge_384_in22ft1k', 2048, 24, 384)\n",
      "Compose(\n",
      "    <__main__.ResizeImage object at 0x2acf83f34fd0>\n",
      "    ToTensor()\n",
      "    Normalize(mean=[0.485, 0.456, 0.406], std=[0.229, 0.224, 0.225])\n",
      ")\n",
      "100%|█████████████████████████████████████████| 102/102 [03:01<00:00,  1.78s/it]\n",
      "('convnext_xlarge_in22ft1k', 2048, 24, 224)\n",
      "Compose(\n",
      "    <__main__.ResizeImage object at 0x2acf83f09490>\n",
      "    ToTensor()\n",
      "    Normalize(mean=[0.485, 0.456, 0.406], std=[0.229, 0.224, 0.225])\n",
      ")\n",
      "100%|█████████████████████████████████████████| 102/102 [01:05<00:00,  1.55it/s]\n",
      "('convnext_xlarge_in22k', 2048, 24, 224)\n",
      "Compose(\n",
      "    <__main__.ResizeImage object at 0x2acf8bfeafd0>\n",
      "    ToTensor()\n",
      "    Normalize(mean=[0.485, 0.456, 0.406], std=[0.229, 0.224, 0.225])\n",
      ")\n",
      "100%|█████████████████████████████████████████| 102/102 [01:05<00:00,  1.55it/s]\n",
      "('swin_large_patch4_window7_224', 1536, 24, 224)\n",
      "Compose(\n",
      "    <__main__.ResizeImage object at 0x2acf83e2a370>\n",
      "    ToTensor()\n",
      "    Normalize(mean=[0.485, 0.456, 0.406], std=[0.229, 0.224, 0.225])\n",
      ")\n",
      "100%|█████████████████████████████████████████| 102/102 [00:35<00:00,  2.84it/s]\n",
      "('swin_large_patch4_window7_224_in22k', 1536, 24, 224)\n",
      "Compose(\n",
      "    <__main__.ResizeImage object at 0x2acf8e264fa0>\n",
      "    ToTensor()\n",
      "    Normalize(mean=[0.485, 0.456, 0.406], std=[0.229, 0.224, 0.225])\n",
      ")\n",
      "100%|█████████████████████████████████████████| 102/102 [00:35<00:00,  2.84it/s]\n",
      "('swin_large_patch4_window12_384', 1536, 24, 384)\n",
      "Compose(\n",
      "    <__main__.ResizeImage object at 0x2acf83ed4df0>\n",
      "    ToTensor()\n",
      "    Normalize(mean=[0.485, 0.456, 0.406], std=[0.229, 0.224, 0.225])\n",
      ")\n",
      "100%|█████████████████████████████████████████| 102/102 [01:53<00:00,  1.11s/it]\n",
      "('swin_large_patch4_window12_384_in22k', 1536, 24, 384)\n",
      "Compose(\n",
      "    <__main__.ResizeImage object at 0x2acf83e62850>\n",
      "    ToTensor()\n",
      "    Normalize(mean=[0.485, 0.456, 0.406], std=[0.229, 0.224, 0.225])\n",
      ")\n",
      "100%|█████████████████████████████████████████| 102/102 [01:53<00:00,  1.11s/it]\n"
     ]
    }
   ],
   "source": [
    "! python get_pre_trained_weights.py --dataset office_home --augmentation none --domain Art --data_root /scratch/cliao25/office_home --image_list_root data/office_home"
   ]
  },
  {
   "cell_type": "code",
   "execution_count": 2,
   "id": "3248a08b",
   "metadata": {},
   "outputs": [
    {
     "name": "stdout",
     "output_type": "stream",
     "text": [
      "Namespace(augmentation='none', data_root='/scratch/cliao25/office_home', dataset='office_home', domain='Real', image_list_root='data/office_home')\n",
      "domain: Real, num unique images: 4357\n",
      "('convnext_xlarge_384_in22ft1k', 2048, 24, 384)\n",
      "Compose(\n",
      "    <__main__.ResizeImage object at 0x2b07c06cdfd0>\n",
      "    ToTensor()\n",
      "    Normalize(mean=[0.485, 0.456, 0.406], std=[0.229, 0.224, 0.225])\n",
      ")\n",
      "100%|█████████████████████████████████████████| 182/182 [05:24<00:00,  1.79s/it]\n",
      "('convnext_xlarge_in22ft1k', 2048, 24, 224)\n",
      "Compose(\n",
      "    <__main__.ResizeImage object at 0x2b07c06a2490>\n",
      "    ToTensor()\n",
      "    Normalize(mean=[0.485, 0.456, 0.406], std=[0.229, 0.224, 0.225])\n",
      ")\n",
      "100%|█████████████████████████████████████████| 182/182 [01:58<00:00,  1.54it/s]\n",
      "('convnext_xlarge_in22k', 2048, 24, 224)\n",
      "Compose(\n",
      "    <__main__.ResizeImage object at 0x2b07c8955fa0>\n",
      "    ToTensor()\n",
      "    Normalize(mean=[0.485, 0.456, 0.406], std=[0.229, 0.224, 0.225])\n",
      ")\n",
      "100%|█████████████████████████████████████████| 182/182 [01:58<00:00,  1.54it/s]\n",
      "('swin_large_patch4_window7_224', 1536, 24, 224)\n",
      "Compose(\n",
      "    <__main__.ResizeImage object at 0x2b06b6b1a220>\n",
      "    ToTensor()\n",
      "    Normalize(mean=[0.485, 0.456, 0.406], std=[0.229, 0.224, 0.225])\n",
      ")\n",
      "100%|█████████████████████████████████████████| 182/182 [01:14<00:00,  2.44it/s]\n",
      "('swin_large_patch4_window7_224_in22k', 1536, 24, 224)\n",
      "Compose(\n",
      "    <__main__.ResizeImage object at 0x2b07c898efd0>\n",
      "    ToTensor()\n",
      "    Normalize(mean=[0.485, 0.456, 0.406], std=[0.229, 0.224, 0.225])\n",
      ")\n",
      "100%|█████████████████████████████████████████| 182/182 [01:13<00:00,  2.47it/s]\n",
      "('swin_large_patch4_window12_384', 1536, 24, 384)\n",
      "Compose(\n",
      "    <__main__.ResizeImage object at 0x2b07c06a2490>\n",
      "    ToTensor()\n",
      "    Normalize(mean=[0.485, 0.456, 0.406], std=[0.229, 0.224, 0.225])\n",
      ")\n",
      "100%|█████████████████████████████████████████| 182/182 [03:22<00:00,  1.11s/it]\n",
      "('swin_large_patch4_window12_384_in22k', 1536, 24, 384)\n",
      "Compose(\n",
      "    <__main__.ResizeImage object at 0x2b07c89fa040>\n",
      "    ToTensor()\n",
      "    Normalize(mean=[0.485, 0.456, 0.406], std=[0.229, 0.224, 0.225])\n",
      ")\n",
      "100%|█████████████████████████████████████████| 182/182 [03:22<00:00,  1.11s/it]\n"
     ]
    }
   ],
   "source": [
    "! python get_pre_trained_weights.py --dataset office_home --augmentation none --domain Real --data_root /scratch/cliao25/office_home --image_list_root data/office_home"
   ]
  },
  {
   "cell_type": "code",
   "execution_count": 3,
   "id": "ebf38d93",
   "metadata": {},
   "outputs": [
    {
     "name": "stdout",
     "output_type": "stream",
     "text": [
      "Namespace(augmentation='none', data_root='/scratch/cliao25/office_home', dataset='office_home', domain='Clipart', image_list_root='data/office_home')\n",
      "domain: Clipart, num unique images: 4365\n",
      "('convnext_xlarge_384_in22ft1k', 2048, 24, 384)\n",
      "Compose(\n",
      "    <__main__.ResizeImage object at 0x2b474a7d5fd0>\n",
      "    ToTensor()\n",
      "    Normalize(mean=[0.485, 0.456, 0.406], std=[0.229, 0.224, 0.225])\n",
      ")\n",
      "100%|█████████████████████████████████████████| 182/182 [05:28<00:00,  1.81s/it]\n",
      "('convnext_xlarge_in22ft1k', 2048, 24, 224)\n",
      "Compose(\n",
      "    <__main__.ResizeImage object at 0x2b474a7aa490>\n",
      "    ToTensor()\n",
      "    Normalize(mean=[0.485, 0.456, 0.406], std=[0.229, 0.224, 0.225])\n",
      ")\n",
      "100%|█████████████████████████████████████████| 182/182 [01:57<00:00,  1.54it/s]\n",
      "('convnext_xlarge_in22k', 2048, 24, 224)\n",
      "Compose(\n",
      "    <__main__.ResizeImage object at 0x2b4752a5efa0>\n",
      "    ToTensor()\n",
      "    Normalize(mean=[0.485, 0.456, 0.406], std=[0.229, 0.224, 0.225])\n",
      ")\n",
      "100%|█████████████████████████████████████████| 182/182 [01:58<00:00,  1.54it/s]\n",
      "('swin_large_patch4_window7_224', 1536, 24, 224)\n",
      "Compose(\n",
      "    <__main__.ResizeImage object at 0x2b473e378130>\n",
      "    ToTensor()\n",
      "    Normalize(mean=[0.485, 0.456, 0.406], std=[0.229, 0.224, 0.225])\n",
      ")\n",
      "100%|█████████████████████████████████████████| 182/182 [01:04<00:00,  2.84it/s]\n",
      "('swin_large_patch4_window7_224_in22k', 1536, 24, 224)\n",
      "Compose(\n",
      "    <__main__.ResizeImage object at 0x2b4752a97ee0>\n",
      "    ToTensor()\n",
      "    Normalize(mean=[0.485, 0.456, 0.406], std=[0.229, 0.224, 0.225])\n",
      ")\n",
      "100%|█████████████████████████████████████████| 182/182 [01:04<00:00,  2.84it/s]\n",
      "('swin_large_patch4_window12_384', 1536, 24, 384)\n",
      "Compose(\n",
      "    <__main__.ResizeImage object at 0x2b474a790040>\n",
      "    ToTensor()\n",
      "    Normalize(mean=[0.485, 0.456, 0.406], std=[0.229, 0.224, 0.225])\n",
      ")\n",
      "100%|█████████████████████████████████████████| 182/182 [03:23<00:00,  1.12s/it]\n",
      "('swin_large_patch4_window12_384_in22k', 1536, 24, 384)\n",
      "Compose(\n",
      "    <__main__.ResizeImage object at 0x2b4752ad3280>\n",
      "    ToTensor()\n",
      "    Normalize(mean=[0.485, 0.456, 0.406], std=[0.229, 0.224, 0.225])\n",
      ")\n",
      "100%|█████████████████████████████████████████| 182/182 [03:23<00:00,  1.12s/it]\n"
     ]
    }
   ],
   "source": [
    "! python get_pre_trained_weights.py --dataset office_home --augmentation none --domain Clipart --data_root /scratch/cliao25/office_home --image_list_root data/office_home"
   ]
  },
  {
   "cell_type": "code",
   "execution_count": 4,
   "id": "79315d0b",
   "metadata": {
    "scrolled": false
   },
   "outputs": [
    {
     "name": "stdout",
     "output_type": "stream",
     "text": [
      "Namespace(augmentation='none', data_root='/scratch/cliao25/office_home', dataset='office_home', domain='Product', image_list_root='data/office_home')\n",
      "domain: Product, num unique images: 4439\n",
      "('convnext_xlarge_384_in22ft1k', 2048, 24, 384)\n",
      "Compose(\n",
      "    <__main__.ResizeImage object at 0x2b409070afd0>\n",
      "    ToTensor()\n",
      "    Normalize(mean=[0.485, 0.456, 0.406], std=[0.229, 0.224, 0.225])\n",
      ")\n",
      "100%|█████████████████████████████████████████| 185/185 [05:31<00:00,  1.79s/it]\n",
      "('convnext_xlarge_in22ft1k', 2048, 24, 224)\n",
      "Compose(\n",
      "    <__main__.ResizeImage object at 0x2b40906df490>\n",
      "    ToTensor()\n",
      "    Normalize(mean=[0.485, 0.456, 0.406], std=[0.229, 0.224, 0.225])\n",
      ")\n",
      "100%|█████████████████████████████████████████| 185/185 [01:59<00:00,  1.54it/s]\n",
      "('convnext_xlarge_in22k', 2048, 24, 224)\n",
      "Compose(\n",
      "    <__main__.ResizeImage object at 0x2b40905c7b80>\n",
      "    ToTensor()\n",
      "    Normalize(mean=[0.485, 0.456, 0.406], std=[0.229, 0.224, 0.225])\n",
      ")\n",
      "100%|█████████████████████████████████████████| 185/185 [02:00<00:00,  1.54it/s]\n",
      "('swin_large_patch4_window7_224', 1536, 24, 224)\n",
      "Compose(\n",
      "    <__main__.ResizeImage object at 0x2b40905c7a30>\n",
      "    ToTensor()\n",
      "    Normalize(mean=[0.485, 0.456, 0.406], std=[0.229, 0.224, 0.225])\n",
      ")\n",
      "100%|█████████████████████████████████████████| 185/185 [01:05<00:00,  2.84it/s]\n",
      "('swin_large_patch4_window7_224_in22k', 1536, 24, 224)\n",
      "Compose(\n",
      "    <__main__.ResizeImage object at 0x2b4098a38e20>\n",
      "    ToTensor()\n",
      "    Normalize(mean=[0.485, 0.456, 0.406], std=[0.229, 0.224, 0.225])\n",
      ")\n",
      "100%|█████████████████████████████████████████| 185/185 [01:05<00:00,  2.83it/s]\n",
      "('swin_large_patch4_window12_384', 1536, 24, 384)\n",
      "Compose(\n",
      "    <__main__.ResizeImage object at 0x2b40907edc10>\n",
      "    ToTensor()\n",
      "    Normalize(mean=[0.485, 0.456, 0.406], std=[0.229, 0.224, 0.225])\n",
      ")\n",
      "100%|█████████████████████████████████████████| 185/185 [03:26<00:00,  1.12s/it]\n",
      "('swin_large_patch4_window12_384_in22k', 1536, 24, 384)\n",
      "Compose(\n",
      "    <__main__.ResizeImage object at 0x2b3f86b57220>\n",
      "    ToTensor()\n",
      "    Normalize(mean=[0.485, 0.456, 0.406], std=[0.229, 0.224, 0.225])\n",
      ")\n",
      "100%|█████████████████████████████████████████| 185/185 [03:26<00:00,  1.12s/it]\n"
     ]
    }
   ],
   "source": [
    "! python get_pre_trained_weights.py --dataset office_home --augmentation none --domain Product --data_root /scratch/cliao25/office_home --image_list_root data/office_home"
   ]
  },
  {
   "cell_type": "code",
   "execution_count": 5,
   "id": "f759252d",
   "metadata": {},
   "outputs": [
    {
     "name": "stdout",
     "output_type": "stream",
     "text": [
      "Namespace(augmentation='none', data_root='/scratch/cliao25/multi', dataset='multi', domain='real', image_list_root='data/multi')\n",
      "domain: real, num unique images: 70358\n",
      "('convnext_xlarge_384_in22ft1k', 2048, 24, 384)\n",
      "Compose(\n",
      "    <__main__.ResizeImage object at 0x2b7b90246fd0>\n",
      "    ToTensor()\n",
      "    Normalize(mean=[0.485, 0.456, 0.406], std=[0.229, 0.224, 0.225])\n",
      ")\n",
      "  3%|█                                      | 77/2932 [02:18<1:25:19,  1.79s/it]^C\n"
     ]
    }
   ],
   "source": [
    "! python get_pre_trained_weights.py --dataset multi --augmentation none --domain real --data_root /scratch/cliao25/multi --image_list_root data/multi"
   ]
  },
  {
   "cell_type": "code",
   "execution_count": null,
   "id": "4a09562c",
   "metadata": {},
   "outputs": [],
   "source": []
  }
 ],
 "metadata": {
  "kernelspec": {
   "display_name": "Python 3",
   "language": "python",
   "name": "python3"
  },
  "language_info": {
   "codemirror_mode": {
    "name": "ipython",
    "version": 3
   },
   "file_extension": ".py",
   "mimetype": "text/x-python",
   "name": "python",
   "nbconvert_exporter": "python",
   "pygments_lexer": "ipython3",
   "version": "3.8.10"
  }
 },
 "nbformat": 4,
 "nbformat_minor": 5
}
